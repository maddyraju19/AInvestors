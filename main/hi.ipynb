{
        "cells": [
                {
                        "cell_type": "code",
                        "execution_count": 84,
                        "metadata": {},
                        "outputs": [
                                {
                                        "name": "stdout",
                                        "output_type": "stream",
                                        "text": [
                                                "0.8731343283582089\n",
                                                "Train Accuracy - : 1.0\n",
                                                "Test Accuracy - : 1.0\n",
                                                "['Mean Reversion']\n"
                                        ]
                                }
                        ],
                        "source": [
                                "import spacy\n",
                                "import yfinance as yf\n",
                                "import numpy as np\n",
                                "import backtrader as bt\n",
                                "import sys\n",
                                "import pandas as pd\n",
                                "import sklearn\n",
                                "from sklearn.ensemble import RandomForestClassifier\n",
                                "from sklearn.model_selection import train_test_split\n",
                                "from sklearn.preprocessing import LabelEncoder\n",
                                "import os\n",
                                "from sklearn.feature_extraction.text import TfidfVectorizer\n",
                                "\n",
                                "#Generate the trading strategy code\n",
                                "def generate_strat_code(user_input):\n",
                                "    data = pd.read_csv(\"StratDescriptions.csv\")\n",
                                "    # Initialize TF-IDF Vectorizer\n",
                                "    vectorizer = TfidfVectorizer(stop_words='english', max_df=0.7)\n",
                                "\n",
                                "    # Transform the text data to feature vectors\n",
                                "    X = vectorizer.fit_transform(data['Description'])\n",
                                "    # Labels\n",
                                "    y = data[\"Type\"]\n",
                                "    X_train, X_test, y_train, y_test = train_test_split(X, y, test_size=0.20, random_state=101)\n",
                                "    rfmod = RandomForestClassifier(oob_score=True)\n",
                                "    rfmod.fit(X_train, y_train)\n",
                                "    print(rfmod.oob_score_)\n",
                                "    print(f'Train Accuracy - : {rfmod.score(X_train,y_train)}')\n",
                                "    print(f'Test Accuracy - : {rfmod.score(X_test,y_test)}')   \n",
                                "\n",
                                "    # Preprocess the user input using the trained vectorizer\n",
                                "    user_input_transformed = vectorizer.transform([user_input])\n",
                                "    \n",
                                "    # Predict the strategy type based on the user input\n",
                                "    predicted_strategy = rfmod.predict(user_input_transformed)   \n",
                                "    \n",
                                "    return predicted_strategy\n",
                                "    \n",
                                "\n",
                                "print(generate_strat_code(\"converges to mean\"))"
                        ]
                }
        ],
        "metadata": {
                "kernelspec": {
                        "display_name": "env",
                        "language": "python",
                        "name": "python3"
                },
                "language_info": {
                        "codemirror_mode": {
                                "name": "ipython",
                                "version": 3
                        },
                        "file_extension": ".py",
                        "mimetype": "text/x-python",
                        "name": "python",
                        "nbconvert_exporter": "python",
                        "pygments_lexer": "ipython3",
                        "version": "3.12.4"
                }
        },
        "nbformat": 4,
        "nbformat_minor": 2
}
