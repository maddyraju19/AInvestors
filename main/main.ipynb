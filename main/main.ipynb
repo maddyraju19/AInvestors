{
  "metadata": {
    "kernelspec": {
      "name": "python",
      "display_name": "Python (Pyodide)",
      "language": "python"
    },
    "language_info": {
      "codemirror_mode": {
        "name": "python",
        "version": 3
      },
      "file_extension": ".py",
      "mimetype": "text/x-python",
      "name": "python",
      "nbconvert_exporter": "python",
      "pygments_lexer": "ipython3",
      "version": "3.8"
    }
  },
  "nbformat_minor": 5,
  "nbformat": 4,
  "cells": [
    {
      "id": "7bda62c7-f2b5-4b7e-a9aa-03dae6e98062",
      "cell_type": "code",
      "source": "import spacy\nimport yfinance as yf\nimport numpy as np\nimport backtrader as bt\nimport sys\nimport pandas as pd\nimport sklearn\nfrom sklearn.ensemble import RandomForestClassifier\nfrom sklearn.model_selection import train_test_split\nfrom sklearn.preprocessing import LabelEncoder\nimport os\nfrom sklearn.feature_extraction.text import TfidfVectorizer\n\n#Generate the trading strategy code\ndef generate_strat_code(user_input):\n    data = pd.read_csv(\"StratDescriptions.csv\")\n",
      "metadata": {
        "trusted": true
      },
    {
      "id": "d96fede2-9ea1-42d9-b9cb-e371c5e74eea",
      "cell_type": "code",
      "source": "    # Initialize TF-IDF Vectorizer\n    vectorizer = TfidfVectorizer(stop_words='english', max_df=0.7)",
      "metadata": {
        "trusted": true
      },
      "outputs": [],
      "execution_count": null
    },
    {
      "id": "ebcd72bf-fe4f-40ba-8821-a86359663202",
      "cell_type": "code",
      "source": "    # Transform the text data to feature vectors\n    X = vectorizer.fit_transform(data['Description'])\n    # Labels\n    y = data[\"Type\"]\n    X_train, X_test, y_train, y_test = train_test_split(X, y, test_size=0.20, random_state=101)\n    rfmod = RandomForestClassifier(oob_score=True)\n    rfmod.fit(X_train, y_train)\n    print(rfmod.oob_score_)\n    print(f'Train Accuracy - : {rfmod.score(X_train,y_train)}')\n    print(f'Test Accuracy - : {rfmod.score(X_test,y_test)}')   ",
      "metadata": {
        "trusted": true
      },
      "outputs": [],
      "execution_count": null
    },
    {
      "id": "c55c5f96-f650-4ac6-b001-63b0d6d23c14",
      "cell_type": "code",
      "source": "    # Preprocess the user input using the trained vectorizer\n    user_input_transformed = vectorizer.transform([user_input])\n    \n    # Predict the strategy type based on the user input\n    predicted_strategy = rfmod.predict(user_input_transformed)   ",
      "metadata": {
        "trusted": true
      },
    },
    {
      "id": "4a9cf685-1ced-4b47-bd0f-155ed0f4684f",
      "cell_type": "code",
      "source": "    if predicted_strategy == [\"Contrarian\"]:\n        from strategies import AAAContrarian as strat\n        return strat.runStrategy()\n\n    if predicted_strategy == [\"Pairs\"]:\n        from strategies import AAAPairs as strat\n        return strat.runStrategy()\n\n    if predicted_strategy == [\"Arbitrage\"]:\n        from strategies import AAAArbitrage as strat\n        return strat.runStrategy()\n\n    if predicted_strategy == [\"Relative Strength\"]:\n        from strategies import AAARS as strat\n        return strat.runStrategy()\n\n    if predicted_strategy == [\"Breakout\"]:\n        from strategies import AAABreakout as strat\n        return strat.runStrategy()\n\n    if predicted_strategy == [\"Volume Based\"]:\n        from strategies import AAAVolume as strat\n        return strat.runStrategy()\n\n    if predicted_strategy == [\"Mean Reversion\"]:\n        from strategies import AAAMeanrev as strat\n        return strat.runStrategy()\n\n    if predicted_strategy == [\"Momentum\"]:\n        from strategies import AAAMomentum as strat\n        return strat.runStrategy()\n\n    if predicted_strategy == [\"Moving Average\"]:\n        from strategies import AAAMA as strat\n        return strat.runStrategy()\n\n\n\n",
      "metadata": {
        "trusted": true
      },
      "outputs": [],
      "execution_count": null
    }
  ]
}
