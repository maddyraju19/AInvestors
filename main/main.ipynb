{
  "metadata": {
    "kernelspec": {
      "name": "python",
      "display_name": "Python (Pyodide)",
      "language": "python"
    },
    "language_info": {
      "codemirror_mode": {
        "name": "python",
        "version": 3
      },
      "file_extension": ".py",
      "mimetype": "text/x-python",
      "name": "python",
      "nbconvert_exporter": "python",
      "pygments_lexer": "ipython3",
      "version": "3.8"
    }
  },
  "nbformat_minor": 5,
  "nbformat": 4,
  "cells": [
    {
      "id": "7bda62c7-f2b5-4b7e-a9aa-03dae6e98062",
      "cell_type": "code",
      "source": "import spacy\nimport yfinance as yf\nimport numpy as np\nimport backtrader as bt\nimport sys\nimport pandas as pd\nimport sklearn\nfrom sklearn.ensemble import RandomForestClassifier\nfrom sklearn.model_selection import train_test_split\nfrom sklearn.preprocessing import LabelEncoder\nimport os\nfrom sklearn.feature_extraction.text import TfidfVectorizer\n\n#Generate the trading strategy code\ndef generate_strat_code(user_input):\n    data = pd.read_csv(\"StratDescriptions.csv\")\n",
      "metadata": {
        "trusted": true
      },
      "outputs": [
        {
          "ename": "<class 'ModuleNotFoundError'>",
          "evalue": "No module named 'spacy'",
          "traceback": [
            "\u001b[0;31m---------------------------------------------------------------------------\u001b[0m",
            "\u001b[0;31mModuleNotFoundError\u001b[0m                       Traceback (most recent call last)",
            "Cell \u001b[0;32mIn[2], line 1\u001b[0m\n\u001b[0;32m----> 1\u001b[0m \u001b[38;5;28;01mimport\u001b[39;00m \u001b[38;5;21;01mspacy\u001b[39;00m\n\u001b[1;32m      2\u001b[0m \u001b[38;5;28;01mimport\u001b[39;00m \u001b[38;5;21;01myfinance\u001b[39;00m \u001b[38;5;28;01mas\u001b[39;00m \u001b[38;5;21;01myf\u001b[39;00m\n\u001b[1;32m      3\u001b[0m \u001b[38;5;28;01mimport\u001b[39;00m \u001b[38;5;21;01mnumpy\u001b[39;00m \u001b[38;5;28;01mas\u001b[39;00m \u001b[38;5;21;01mnp\u001b[39;00m\n",
            "\u001b[0;31mModuleNotFoundError\u001b[0m: No module named 'spacy'"
          ],
          "output_type": "error"
        }
      ],
      "execution_count": 2
    },
    {
      "id": "d96fede2-9ea1-42d9-b9cb-e371c5e74eea",
      "cell_type": "code",
      "source": "    # Initialize TF-IDF Vectorizer\n    vectorizer = TfidfVectorizer(stop_words='english', max_df=0.7)",
      "metadata": {
        "trusted": true
      },
      "outputs": [],
      "execution_count": null
    },
    {
      "id": "ebcd72bf-fe4f-40ba-8821-a86359663202",
      "cell_type": "code",
      "source": "    # Transform the text data to feature vectors\n    X = vectorizer.fit_transform(data['Description'])\n    # Labels\n    y = data[\"Type\"]\n    X_train, X_test, y_train, y_test = train_test_split(X, y, test_size=0.20, random_state=101)\n    rfmod = RandomForestClassifier(oob_score=True)\n    rfmod.fit(X_train, y_train)\n    print(rfmod.oob_score_)\n    print(f'Train Accuracy - : {rfmod.score(X_train,y_train)}')\n    print(f'Test Accuracy - : {rfmod.score(X_test,y_test)}')   ",
      "metadata": {
        "trusted": true
      },
      "outputs": [],
      "execution_count": null
    },
    {
      "id": "c55c5f96-f650-4ac6-b001-63b0d6d23c14",
      "cell_type": "code",
      "source": "    # Preprocess the user input using the trained vectorizer\n    user_input_transformed = vectorizer.transform([user_input])\n    \n    # Predict the strategy type based on the user input\n    predicted_strategy = rfmod.predict(user_input_transformed)   ",
      "metadata": {
        "trusted": true
      },
      "outputs": [
        {
          "ename": "<class 'NameError'>",
          "evalue": "name 'vectorizer' is not defined",
          "traceback": [
            "\u001b[0;31m---------------------------------------------------------------------------\u001b[0m",
            "\u001b[0;31mNameError\u001b[0m                                 Traceback (most recent call last)",
            "Cell \u001b[0;32mIn[1], line 2\u001b[0m\n\u001b[1;32m      1\u001b[0m \u001b[38;5;66;03m# Preprocess the user input using the trained vectorizer\u001b[39;00m\n\u001b[0;32m----> 2\u001b[0m user_input_transformed \u001b[38;5;241m=\u001b[39m \u001b[43mvectorizer\u001b[49m\u001b[38;5;241m.\u001b[39mtransform([user_input])\n\u001b[1;32m      4\u001b[0m \u001b[38;5;66;03m# Predict the strategy type based on the user input\u001b[39;00m\n\u001b[1;32m      5\u001b[0m predicted_strategy \u001b[38;5;241m=\u001b[39m rfmod\u001b[38;5;241m.\u001b[39mpredict(user_input_transformed)   \n",
            "\u001b[0;31mNameError\u001b[0m: name 'vectorizer' is not defined"
          ],
          "output_type": "error"
        }
      ],
      "execution_count": 1
    },
    {
      "id": "4a9cf685-1ced-4b47-bd0f-155ed0f4684f",
      "cell_type": "code",
      "source": "    if predicted_strategy == [\"Contrarian\"]:\n        from strategies import AAAContrarian as strat\n        return strat.runStrategy()\n\n    if predicted_strategy == [\"Pairs\"]:\n        from strategies import AAAPairs as strat\n        return strat.runStrategy()\n\n    if predicted_strategy == [\"Arbitrage\"]:\n        from strategies import AAAArbitrage as strat\n        return strat.runStrategy()\n\n    if predicted_strategy == [\"Relative Strength\"]:\n        from strategies import AAARS as strat\n        return strat.runStrategy()\n\n    if predicted_strategy == [\"Breakout\"]:\n        from strategies import AAABreakout as strat\n        return strat.runStrategy()\n\n    if predicted_strategy == [\"Volume Based\"]:\n        from strategies import AAAVolume as strat\n        return strat.runStrategy()\n\n    if predicted_strategy == [\"Mean Reversion\"]:\n        from strategies import AAAMeanrev as strat\n        return strat.runStrategy()\n\n    if predicted_strategy == [\"Momentum\"]:\n        from strategies import AAAMomentum as strat\n        return strat.runStrategy()\n\n    if predicted_strategy == [\"Moving Average\"]:\n        from strategies import AAAMA as strat\n        return strat.runStrategy()\n\n\n\n",
      "metadata": {
        "trusted": true
      },
      "outputs": [],
      "execution_count": null
    }
  ]
}